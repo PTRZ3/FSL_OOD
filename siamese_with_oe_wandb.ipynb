{
 "cells": [
  {
   "cell_type": "code",
   "execution_count": 1,
   "id": "4f611046",
   "metadata": {},
   "outputs": [],
   "source": [
    "import torch\n",
    "import torch.nn as nn\n",
    "from torch.utils.data import DataLoader, Subset, Dataset\n",
    "import torchvision \n",
    "from torchvision import transforms as T\n",
    "from torchvision.datasets import CIFAR10, SVHN\n",
    "import torch.nn.functional as F\n",
    "from torch import optim\n",
    "\n",
    "import os\n",
    "import sys\n",
    "from numpy.random import choice as npc\n",
    "import numpy as np\n",
    "import pandas as pd\n",
    "import time\n",
    "import random\n",
    "import matplotlib.pyplot as plt\n",
    "from sklearn import metrics\n",
    "import wandb\n",
    "\n",
    "from siamese_dataloader import CIFAR10_TrainValPair_OE, CIFAR10_TrainPair, CIFAR10_ValPair\n",
    "from siamese_resnet import BasicBlock, Siamese_ResNet\n",
    "from useful_fc import show_dist, show_auroc"
   ]
  },
  {
   "cell_type": "markdown",
   "id": "4a87878f",
   "metadata": {},
   "source": [
    "### Prepare dataset"
   ]
  },
  {
   "cell_type": "code",
   "execution_count": 2,
   "id": "af829e95",
   "metadata": {},
   "outputs": [],
   "source": [
    "# load cifar10 dataset\n",
    "transform = T.Compose([T.ToTensor(),\n",
    "                       T.Normalize((0.4914, 0.4822, 0.4465), (0.2471, 0.2435, 0.2616)),])\n",
    "# CIFAR10 - train\n",
    "cifar10_dataset = CIFAR10(root=\"./data\", train=True, transform=transform, download = False)  \n",
    "torch.manual_seed(2021)\n",
    "cifar10_dataset_train, cifar10_dataset_val = torch.utils.data.random_split(cifar10_dataset, [40000, 10000])\n",
    "# CIFAR10 - test\n",
    "cifar10_dataset_test = CIFAR10(root=\"./data\", train=False, transform=transform, download =False)\n",
    "# SVHN\n",
    "svhn_dataset = SVHN(root=\"./data\", split = 'train', transform=transform, download = False) \n",
    "# TinyImageNet\n",
    "tinyimagenet_dataset = torchvision.datasets.ImageFolder(\"./data/Imagenet_resize\", transform=transform)\n",
    "# LSUN\n",
    "lsun_dataset = torchvision.datasets.ImageFolder(\"./data/LSUN_resize\", transform=transform)"
   ]
  },
  {
   "cell_type": "code",
   "execution_count": 4,
   "id": "ddd3e14e",
   "metadata": {},
   "outputs": [],
   "source": [
    "trainset_oe = CIFAR10_TrainValPair_OE(cifar10_dataset_train, \n",
    "                                      svhn_dataset, \n",
    "                                      size = 40000, \n",
    "                                      seen_classes = [4,5,6,7,8,9], #list(range(6)),\n",
    "                                      oe_classes = list(range(5)))  #[5,6,7,8,9])  #list(range(5)))\n",
    "valset_oe = CIFAR10_TrainValPair_OE(cifar10_dataset_val, \n",
    "                                 svhn_dataset,\n",
    "                                 size = 10000, \n",
    "                                 seen_classes = [4,5,6,7,8,9], #list(range(6)), \n",
    "                                 oe_classes = list(range(5,10)))  #list(range(5))) #list(range(5,10)))\n",
    "#valset_oe = CIFAR10_ValPair(cifar10_dataset_val, \n",
    "#                         val_size = 10000, \n",
    "#                         seen_classes = list(range(6)), \n",
    "#                         ood_classes = [6,7])"
   ]
  },
  {
   "cell_type": "code",
   "execution_count": 5,
   "id": "10ecfa63",
   "metadata": {},
   "outputs": [],
   "source": [
    "train_dataloader = DataLoader(\n",
    "            trainset_oe,\n",
    "            shuffle = True,   \n",
    "            batch_size=512,\n",
    "            num_workers=0,\n",
    "            drop_last=True,\n",
    "            pin_memory=True,\n",
    "        )\n",
    "val_dataloader = DataLoader(\n",
    "            valset_oe,\n",
    "            shuffle = True,    \n",
    "            batch_size=512,\n",
    "            num_workers=0,\n",
    "            drop_last=True,\n",
    "            pin_memory=True,\n",
    "        )"
   ]
  },
  {
   "cell_type": "markdown",
   "id": "7beb447f",
   "metadata": {},
   "source": [
    "### Training"
   ]
  },
  {
   "cell_type": "code",
   "execution_count": 6,
   "id": "763799f2",
   "metadata": {},
   "outputs": [],
   "source": [
    "class ContrastiveLoss(torch.nn.Module):\n",
    "    def __init__(self, margin=10):\n",
    "        super(ContrastiveLoss, self).__init__()\n",
    "        self.margin = margin\n",
    "\n",
    "    def forward(self, distance, is_diff):\n",
    "        loss = torch.mean((1-is_diff) * torch.pow(distance, 2) +                           #same class\n",
    "               is_diff * torch.pow(torch.clamp(self.margin - distance, min=0.0), 2))       #different classes\n",
    "\n",
    "        return loss"
   ]
  },
  {
   "cell_type": "code",
   "execution_count": 7,
   "id": "eaf0b9c8",
   "metadata": {},
   "outputs": [
    {
     "name": "stderr",
     "output_type": "stream",
     "text": [
      "wandb: Currently logged in as: zoey7407 (use `wandb login --relogin` to force relogin)\n"
     ]
    },
    {
     "data": {
      "text/plain": [
       "True"
      ]
     },
     "execution_count": 7,
     "metadata": {},
     "output_type": "execute_result"
    }
   ],
   "source": [
    "wandb.login()"
   ]
  },
  {
   "cell_type": "code",
   "execution_count": 8,
   "id": "2ab8a8c0",
   "metadata": {},
   "outputs": [],
   "source": [
    "def train():\n",
    "    wandb.init(name='Siamese with OE - rotation2', \n",
    "               project='training-siamese',\n",
    "               config={\"model\": 'resnet18',\n",
    "                       \"resnet_layers\": [2,2,2,2],\n",
    "                       \"loss_margin\": 17,\n",
    "                       \"learning_rate\": 0.001,\n",
    "                       \"weight_decay\": 0.0006,\n",
    "                       \"max_epoch\": 10,   #1000\n",
    "                       \"early_stop_patience\": 20,\n",
    "                       \"early_stop_by_auroc\": True,\n",
    "                       \"show_dist_every\": 10,\n",
    "                       \"seed\": 2021})\n",
    "\n",
    "    model = Siamese_ResNet(BasicBlock, wandb.config.resnet_layers).cuda()\n",
    "    model.load_state_dict(torch.load(\"./stat_dict/siamese_without_oe_best_rotation.pth\"))\n",
    "    \n",
    "    criterion = ContrastiveLoss(margin = wandb.config.loss_margin)\n",
    "    optimizer = optim.Adam(model.parameters(),lr = wandb.config.learning_rate, weight_decay=wandb.config.weight_decay)\n",
    "\n",
    "\n",
    "    num_epochs = wandb.config.max_epoch\n",
    "    early_stop_counter = 0\n",
    "    early_stop_patience = wandb.config.early_stop_patience\n",
    "    early_stop = False\n",
    "    best_val_loss = 9999\n",
    "    best_val_auroc_ood = 0\n",
    "    show_dist_every = wandb.config.show_dist_every\n",
    "\n",
    "    torch.manual_seed(wandb.config.seed)\n",
    "    wandb.watch(model)\n",
    "\n",
    "    for epoch in range(0,num_epochs):\n",
    "        #train\n",
    "        model.train()\n",
    "        train_loss = 0\n",
    "        for i, tr_batch in enumerate(train_dataloader,0):\n",
    "            tr_img1, tr_img2, tr_class_1, tr_class_2, tr_is_diff, tr_is_ood = tr_batch\n",
    "            tr_img1, tr_img2 , tr_is_diff = tr_img1.cuda(), tr_img2.cuda() , tr_is_diff.cuda()\n",
    "            optimizer.zero_grad()\n",
    "            _,_, tr_dist = model(tr_img1,tr_img2)\n",
    "            tr_loss = criterion(tr_dist,tr_is_diff)\n",
    "            tr_loss.backward()\n",
    "            optimizer.step()\n",
    "            train_loss += tr_loss.item()   \n",
    "\n",
    "        train_loss = train_loss/len(train_dataloader)   # mean epoch loss\n",
    "\n",
    "\n",
    "        #validation\n",
    "        model.eval()\n",
    "        val_loss = 0\n",
    "        val_is_diff_all = []\n",
    "        val_is_ood_all = []\n",
    "        val_dist_all = []\n",
    "        for j, val_batch in enumerate(val_dataloader,0):\n",
    "            val_img1, val_img2 , val_class_1, val_class_2, val_is_diff, val_is_ood = val_batch\n",
    "            val_img1, val_img2 , val_is_diff = val_img1.cuda(), val_img2.cuda() , val_is_diff.cuda()\n",
    "            _,_,val_dist = model(val_img1,val_img2)\n",
    "            val_batch_loss = criterion(val_dist,val_is_diff)\n",
    "            val_loss += val_batch_loss.item()\n",
    "            val_is_diff_all += val_is_diff.cpu().detach().numpy().squeeze().tolist()\n",
    "            val_is_ood_all += val_is_ood.cpu().detach().numpy().squeeze().tolist()\n",
    "            val_dist_all += val_dist.cpu().detach().numpy().squeeze().tolist()\n",
    "\n",
    "        val_loss = val_loss/len(val_dataloader)\n",
    "        val_auroc_diff = show_auroc(val_is_diff_all, val_dist_all, display = False)\n",
    "        val_auroc_ood = show_auroc(val_is_ood_all, val_dist_all, display = False)\n",
    "\n",
    "\n",
    "        print(\"\\nEpoch {}, Train loss {}, Val loss {}\\nVal auroc diff {}, Val auroc ood {}\"\n",
    "                .format(epoch, train_loss, val_loss, val_auroc_diff, val_auroc_ood))\n",
    "\n",
    "        # display the distance distribution in last training and validation batch\n",
    "        if epoch % show_dist_every ==0:\n",
    "            tr_mean_same_dist, tr_mean_diff_seen_dist, tr_mean_diff_ood_dist, val_mean_same_dist, val_mean_diff_seen_dist, val_mean_diff_ood_dist = show_dist(tr_dist, tr_is_diff, tr_is_ood, val_dist, val_is_diff, val_is_ood, plot = True) \n",
    "        else:\n",
    "            tr_mean_same_dist, tr_mean_diff_seen_dist, tr_mean_diff_ood_dist, val_mean_same_dist, val_mean_diff_seen_dist, val_mean_diff_ood_dist = show_dist(tr_dist, tr_is_diff, tr_is_ood, val_dist, val_is_diff, val_is_ood, plot = False) \n",
    "\n",
    "        wandb.log({\n",
    "            \"Epoch\": epoch,\n",
    "            \"Train Loss\": train_loss,\n",
    "            \"Val Loss\": val_loss, \n",
    "            \"Val auroc diff\": val_auroc_diff, \n",
    "            \"Val auroc ood\": val_auroc_ood,\n",
    "            \"Train mean distance (same)\": tr_mean_same_dist,\n",
    "            \"Train mean distance (diff_seen)\": tr_mean_diff_seen_dist,\n",
    "            \"Train mean distance (diff_ood)\": tr_mean_diff_ood_dist,\n",
    "            \"Val mean distance (same)\": val_mean_same_dist,\n",
    "            \"Val mean distance (diff_seen)\": val_mean_diff_seen_dist,\n",
    "            \"Val mean distance (diff_ood)\": val_mean_diff_ood_dist\n",
    "            })\n",
    "\n",
    "        # early stop by loss\n",
    "        if wandb.config.early_stop_by_auroc == False:\n",
    "            if val_loss > best_val_loss:\n",
    "                early_stop_counter += 1\n",
    "                print(f'EarlyStopping counter: {early_stop_counter} out of {early_stop_patience}, best val loss: {best_val_loss}')\n",
    "                if early_stop_counter >= early_stop_patience:\n",
    "                    early_stop = True\n",
    "            else:\n",
    "                best_val_loss = val_loss\n",
    "                early_stop_counter = 0            \n",
    "        # early stop by validation ood auroc\n",
    "        else:\n",
    "            if val_auroc_ood < best_val_auroc_ood:\n",
    "                early_stop_counter += 1\n",
    "                print(f'EarlyStopping counter: {early_stop_counter} out of {early_stop_patience}, best val auroc ood: {best_val_auroc_ood}')\n",
    "                if early_stop_counter >= early_stop_patience:\n",
    "                    early_stop = True\n",
    "            else:\n",
    "                best_val_auroc_ood = val_auroc_ood\n",
    "                early_stop_counter = 0\n",
    "\n",
    "        if early_stop:\n",
    "            print(\"Early stopping\")\n",
    "            torch.save(model.state_dict(), \"./stat_dict/siamese_with_oe_continue.pth\")\n",
    "            break\n",
    "\n",
    "    wandb.finish()\n",
    "    \n",
    "    tr_mean_same_dist, tr_mean_diff_seen_dist, tr_mean_diff_ood_dist, val_mean_same_dist, val_mean_diff_seen_dist, val_mean_diff_ood_dist = show_dist(tr_dist, tr_is_diff, tr_is_ood, val_dist, val_is_diff, val_is_ood, plot = True) \n",
    "    show_dist(tr_dist, tr_is_diff, tr_is_ood, val_dist, val_is_diff, val_is_ood) \n",
    "    # auroc for val_is_diff\n",
    "    show_auroc(val_is_diff.cpu().detach().numpy().squeeze(), val_dist.cpu().detach().numpy().squeeze())\n",
    "    # auroc for val_is_ood\n",
    "    show_auroc(val_is_ood.cpu().detach().numpy().squeeze(), val_dist.cpu().detach().numpy().squeeze())\n",
    "    \n",
    "    return model"
   ]
  },
  {
   "cell_type": "code",
   "execution_count": 11,
   "id": "7167c882",
   "metadata": {},
   "outputs": [
    {
     "data": {
      "text/html": [
       "Finishing last run (ID:1wwowmj4) before initializing another..."
      ],
      "text/plain": [
       "<IPython.core.display.HTML object>"
      ]
     },
     "metadata": {},
     "output_type": "display_data"
    },
    {
     "data": {
      "text/html": [
       "<br/>Waiting for W&B process to finish, PID 122644<br/>Program ended successfully."
      ],
      "text/plain": [
       "<IPython.core.display.HTML object>"
      ]
     },
     "metadata": {},
     "output_type": "display_data"
    },
    {
     "data": {
      "application/vnd.jupyter.widget-view+json": {
       "model_id": "",
       "version_major": 2,
       "version_minor": 0
      },
      "text/plain": [
       "VBox(children=(Label(value=' 0.00MB of 0.00MB uploaded (0.00MB deduped)\\r'), FloatProgress(value=1.0, max=1.0)…"
      ]
     },
     "metadata": {},
     "output_type": "display_data"
    },
    {
     "data": {
      "text/html": [
       "Find user logs for this run at: <code>C:\\Users\\HANZO\\FSL_OOD\\experiments\\wandb\\run-20210726_110514-1wwowmj4\\logs\\debug.log</code>"
      ],
      "text/plain": [
       "<IPython.core.display.HTML object>"
      ]
     },
     "metadata": {},
     "output_type": "display_data"
    },
    {
     "data": {
      "text/html": [
       "Find internal logs for this run at: <code>C:\\Users\\HANZO\\FSL_OOD\\experiments\\wandb\\run-20210726_110514-1wwowmj4\\logs\\debug-internal.log</code>"
      ],
      "text/plain": [
       "<IPython.core.display.HTML object>"
      ]
     },
     "metadata": {},
     "output_type": "display_data"
    },
    {
     "data": {
      "text/html": [
       "Synced 4 W&B file(s), 0 media file(s), 0 artifact file(s) and 0 other file(s)"
      ],
      "text/plain": [
       "<IPython.core.display.HTML object>"
      ]
     },
     "metadata": {},
     "output_type": "display_data"
    },
    {
     "data": {
      "text/html": [
       "\n",
       "                    <br/>Synced <strong style=\"color:#cdcd00\">Siamese with OE - continue</strong>: <a href=\"https://wandb.ai/zoey7407/training-siamese/runs/1wwowmj4\" target=\"_blank\">https://wandb.ai/zoey7407/training-siamese/runs/1wwowmj4</a><br/>\n",
       "                "
      ],
      "text/plain": [
       "<IPython.core.display.HTML object>"
      ]
     },
     "metadata": {},
     "output_type": "display_data"
    },
    {
     "data": {
      "text/html": [
       "...Successfully finished last run (ID:1wwowmj4). Initializing new run:<br/><br/>"
      ],
      "text/plain": [
       "<IPython.core.display.HTML object>"
      ]
     },
     "metadata": {},
     "output_type": "display_data"
    },
    {
     "name": "stderr",
     "output_type": "stream",
     "text": [
      "wandb: wandb version 0.11.0 is available!  To upgrade, please run:\n",
      "wandb:  $ pip install wandb --upgrade\n"
     ]
    },
    {
     "data": {
      "text/html": [
       "\n",
       "                Tracking run with wandb version 0.10.32<br/>\n",
       "                Syncing run <strong style=\"color:#cdcd00\">Siamese with OE - continue</strong> to <a href=\"https://wandb.ai\" target=\"_blank\">Weights & Biases</a> <a href=\"https://docs.wandb.com/integrations/jupyter.html\" target=\"_blank\">(Documentation)</a>.<br/>\n",
       "                Project page: <a href=\"https://wandb.ai/zoey7407/training-siamese\" target=\"_blank\">https://wandb.ai/zoey7407/training-siamese</a><br/>\n",
       "                Run page: <a href=\"https://wandb.ai/zoey7407/training-siamese/runs/2z8fhcxr\" target=\"_blank\">https://wandb.ai/zoey7407/training-siamese/runs/2z8fhcxr</a><br/>\n",
       "                Run data is saved locally in <code>C:\\Users\\HANZO\\FSL_OOD\\experiments\\wandb\\run-20210726_110548-2z8fhcxr</code><br/><br/>\n",
       "            "
      ],
      "text/plain": [
       "<IPython.core.display.HTML object>"
      ]
     },
     "metadata": {},
     "output_type": "display_data"
    },
    {
     "name": "stdout",
     "output_type": "stream",
     "text": [
      "\n",
      "Epoch 0, Train loss 2.0695694562086127, Val loss 20.29113046746505\n",
      "Val auroc diff 0.8675511433657633, Val auroc ood 0.6658627920944584\n",
      "Distance distribution of last training batch:\n",
      "mean_same = 0.6759837865829468, mean_diff_seen = 13.043368339538574, mean_diff_ood = 9.74914264678955\n",
      "Distance distribution of last validation batch:\n",
      "mean_same = 3.7567381858825684, mean_diff_seen = 12.153226852416992, mean_diff_ood = 9.60488224029541\n"
     ]
    },
    {
     "data": {
      "image/png": "[encoded data removed]",
      "text/plain": [
       "<Figure size 720x360 with 2 Axes>"
      ]
     },
     "metadata": {
      "needs_background": "light"
     },
     "output_type": "display_data"
    },
    {
     "name": "stdout",
     "output_type": "stream",
     "text": [
      "\n",
      "Epoch 1, Train loss 1.0040373722302545, Val loss 19.99515192132247\n",
      "Val auroc diff 0.8455744160862543, Val auroc ood 0.636443755533878\n",
      "Distance distribution of last training batch:\n",
      "mean_same = 0.4964420795440674, mean_diff_seen = 12.724932670593262, mean_diff_ood = 10.338112831115723\n",
      "Distance distribution of last validation batch:\n",
      "mean_same = 4.248490333557129, mean_diff_seen = 11.506080627441406, mean_diff_ood = 8.896478652954102\n",
      "EarlyStopping counter: 1 out of 20, best val auroc ood: 0.6658627920944584\n",
      "\n",
      "Epoch 2, Train loss 0.7099577136260947, Val loss 18.852408409118652\n",
      "Val auroc diff 0.8974350455699355, Val auroc ood 0.7739398132641334\n",
      "Distance distribution of last training batch:\n",
      "mean_same = 0.527197003364563, mean_diff_seen = 11.430097579956055, mean_diff_ood = 10.35106372833252\n",
      "Distance distribution of last validation batch:\n",
      "mean_same = 4.152867317199707, mean_diff_seen = 10.575133323669434, mean_diff_ood = 10.283364295959473\n",
      "\n",
      "Epoch 3, Train loss 0.6040101599754747, Val loss 18.106798222190456\n",
      "Val auroc diff 0.847864181555082, Val auroc ood 0.6289366565033283\n",
      "Distance distribution of last training batch:\n",
      "mean_same = 0.3351096212863922, mean_diff_seen = 11.269766807556152, mean_diff_ood = 10.230117797851562\n",
      "Distance distribution of last validation batch:\n",
      "mean_same = 3.7780213356018066, mean_diff_seen = 9.951691627502441, mean_diff_ood = 8.599843978881836\n",
      "EarlyStopping counter: 1 out of 20, best val auroc ood: 0.7739398132641334\n",
      "\n",
      "Epoch 4, Train loss 0.5701401298961688, Val loss 16.894655428434675\n",
      "Val auroc diff 0.884501992958074, Val auroc ood 0.7201880252289863\n",
      "Distance distribution of last training batch:\n",
      "mean_same = 0.328058660030365, mean_diff_seen = 10.70395565032959, mean_diff_ood = 10.806957244873047\n",
      "Distance distribution of last validation batch:\n",
      "mean_same = 4.236882209777832, mean_diff_seen = 9.765911102294922, mean_diff_ood = 9.671311378479004\n",
      "EarlyStopping counter: 2 out of 20, best val auroc ood: 0.7739398132641334\n",
      "\n",
      "Epoch 5, Train loss 0.5845810111957727, Val loss 17.19690368050023\n",
      "Val auroc diff 0.8717565610375844, Val auroc ood 0.7083057928022238\n",
      "Distance distribution of last training batch:\n",
      "mean_same = 0.3033122420310974, mean_diff_seen = 10.277667045593262, mean_diff_ood = 10.541543960571289\n",
      "Distance distribution of last validation batch:\n",
      "mean_same = 3.3008391857147217, mean_diff_seen = 9.372937202453613, mean_diff_ood = 9.130209922790527\n",
      "EarlyStopping counter: 3 out of 20, best val auroc ood: 0.7739398132641334\n",
      "\n",
      "Epoch 6, Train loss 0.6225378619334132, Val loss 17.91272655286287\n",
      "Val auroc diff 0.8337786913891215, Val auroc ood 0.6198700160880839\n",
      "Distance distribution of last training batch:\n",
      "mean_same = 0.422512412071228, mean_diff_seen = 10.460139274597168, mean_diff_ood = 11.145136833190918\n",
      "Distance distribution of last validation batch:\n",
      "mean_same = 3.890388011932373, mean_diff_seen = 9.44299602508545, mean_diff_ood = 8.598875045776367\n",
      "EarlyStopping counter: 4 out of 20, best val auroc ood: 0.7739398132641334\n",
      "\n",
      "Epoch 7, Train loss 0.6443727855215368, Val loss 17.159144652517217\n",
      "Val auroc diff 0.8738769505162489, Val auroc ood 0.7231906452690537\n",
      "Distance distribution of last training batch:\n",
      "mean_same = 0.35064923763275146, mean_diff_seen = 10.27242374420166, mean_diff_ood = 11.154735565185547\n",
      "Distance distribution of last validation batch:\n",
      "mean_same = 3.478070020675659, mean_diff_seen = 9.442455291748047, mean_diff_ood = 9.328852653503418\n",
      "EarlyStopping counter: 5 out of 20, best val auroc ood: 0.7739398132641334\n",
      "\n",
      "Epoch 8, Train loss 0.6472484039277145, Val loss 17.569725438168174\n",
      "Val auroc diff 0.8424157157925727, Val auroc ood 0.6370622364806916\n",
      "Distance distribution of last training batch:\n",
      "mean_same = 0.5007396936416626, mean_diff_seen = 10.006269454956055, mean_diff_ood = 10.603321075439453\n",
      "Distance distribution of last validation batch:\n",
      "mean_same = 3.3154401779174805, mean_diff_seen = 9.726131439208984, mean_diff_ood = 9.086429595947266\n",
      "EarlyStopping counter: 6 out of 20, best val auroc ood: 0.7739398132641334\n",
      "\n",
      "Epoch 9, Train loss 0.5980271421296081, Val loss 17.573259353637695\n",
      "Val auroc diff 0.8312613249720069, Val auroc ood 0.6074900936423161\n",
      "Distance distribution of last training batch:\n",
      "mean_same = 0.39942634105682373, mean_diff_seen = 10.140077590942383, mean_diff_ood = 11.172758102416992\n",
      "Distance distribution of last validation batch:\n",
      "mean_same = 3.455726146697998, mean_diff_seen = 9.45950984954834, mean_diff_ood = 8.641321182250977\n",
      "EarlyStopping counter: 7 out of 20, best val auroc ood: 0.7739398132641334\n"
     ]
    },
    {
     "data": {
      "text/html": [
       "<br/>Waiting for W&B process to finish, PID 120900<br/>Program ended successfully."
      ],
      "text/plain": [
       "<IPython.core.display.HTML object>"
      ]
     },
     "metadata": {},
     "output_type": "display_data"
    },
    {
     "data": {
      "application/vnd.jupyter.widget-view+json": {
       "model_id": "",
       "version_major": 2,
       "version_minor": 0
      },
      "text/plain": [
       "VBox(children=(Label(value=' 0.00MB of 0.00MB uploaded (0.00MB deduped)\\r'), FloatProgress(value=1.0, max=1.0)…"
      ]
     },
     "metadata": {},
     "output_type": "display_data"
    },
    {
     "data": {
      "text/html": [
       "Find user logs for this run at: <code>C:\\Users\\HANZO\\FSL_OOD\\experiments\\wandb\\run-20210726_110548-2z8fhcxr\\logs\\debug.log</code>"
      ],
      "text/plain": [
       "<IPython.core.display.HTML object>"
      ]
     },
     "metadata": {},
     "output_type": "display_data"
    },
    {
     "data": {
      "text/html": [
       "Find internal logs for this run at: <code>C:\\Users\\HANZO\\FSL_OOD\\experiments\\wandb\\run-20210726_110548-2z8fhcxr\\logs\\debug-internal.log</code>"
      ],
      "text/plain": [
       "<IPython.core.display.HTML object>"
      ]
     },
     "metadata": {},
     "output_type": "display_data"
    },
    {
     "data": {
      "text/html": [
       "<h3>Run summary:</h3><br/><style>\n",
       "    table.wandb td:nth-child(1) { padding: 0 10px; text-align: right }\n",
       "    </style><table class=\"wandb\">\n",
       "<tr><td>Epoch</td><td>9</td></tr><tr><td>Train Loss</td><td>0.59803</td></tr><tr><td>Val Loss</td><td>17.57326</td></tr><tr><td>Val auroc diff</td><td>0.83126</td></tr><tr><td>Val auroc ood</td><td>0.60749</td></tr><tr><td>Train mean distance (same)</td><td>0.39943</td></tr><tr><td>Train mean distance (diff_seen)</td><td>10.14008</td></tr><tr><td>Train mean distance (diff_ood)</td><td>11.17276</td></tr><tr><td>Val mean distance (same)</td><td>3.45573</td></tr><tr><td>Val mean distance (diff_seen)</td><td>9.45951</td></tr><tr><td>Val mean distance (diff_ood)</td><td>8.64132</td></tr><tr><td>_runtime</td><td>459</td></tr><tr><td>_timestamp</td><td>1627269211</td></tr><tr><td>_step</td><td>9</td></tr></table>"
      ],
      "text/plain": [
       "<IPython.core.display.HTML object>"
      ]
     },
     "metadata": {},
     "output_type": "display_data"
    },
    {
     "data": {
      "text/html": [
       "<h3>Run history:</h3><br/><style>\n",
       "    table.wandb td:nth-child(1) { padding: 0 10px; text-align: right }\n",
       "    </style><table class=\"wandb\">\n",
       "<tr><td>Epoch</td><td>▁▂▃▃▄▅▆▆▇█</td></tr><tr><td>Train Loss</td><td>█▃▂▁▁▁▁▁▁▁</td></tr><tr><td>Val Loss</td><td>█▇▅▃▁▂▃▂▂▂</td></tr><tr><td>Val auroc diff</td><td>▅▃█▃▇▅▁▆▂▁</td></tr><tr><td>Val auroc ood</td><td>▃▂█▂▆▅▂▆▂▁</td></tr><tr><td>Train mean distance (same)</td><td>█▅▅▂▁▁▃▂▅▃</td></tr><tr><td>Train mean distance (diff_seen)</td><td>█▇▄▄▃▂▂▂▁▁</td></tr><tr><td>Train mean distance (diff_ood)</td><td>▁▄▄▃▆▅██▅█</td></tr><tr><td>Val mean distance (same)</td><td>▄█▇▅█▁▅▂▁▂</td></tr><tr><td>Val mean distance (diff_seen)</td><td>█▆▄▂▂▁▁▁▂▁</td></tr><tr><td>Val mean distance (diff_ood)</td><td>▅▂█▁▅▃▁▄▃▁</td></tr><tr><td>_runtime</td><td>▁▂▃▃▄▅▆▆▇█</td></tr><tr><td>_timestamp</td><td>▁▂▃▃▄▅▆▆▇█</td></tr><tr><td>_step</td><td>▁▂▃▃▄▅▆▆▇█</td></tr></table><br/>"
      ],
      "text/plain": [
       "<IPython.core.display.HTML object>"
      ]
     },
     "metadata": {},
     "output_type": "display_data"
    },
    {
     "data": {
      "text/html": [
       "Synced 5 W&B file(s), 0 media file(s), 0 artifact file(s) and 0 other file(s)"
      ],
      "text/plain": [
       "<IPython.core.display.HTML object>"
      ]
     },
     "metadata": {},
     "output_type": "display_data"
    },
    {
     "data": {
      "text/html": [
       "\n",
       "                    <br/>Synced <strong style=\"color:#cdcd00\">Siamese with OE - continue</strong>: <a href=\"https://wandb.ai/zoey7407/training-siamese/runs/2z8fhcxr\" target=\"_blank\">https://wandb.ai/zoey7407/training-siamese/runs/2z8fhcxr</a><br/>\n",
       "                "
      ],
      "text/plain": [
       "<IPython.core.display.HTML object>"
      ]
     },
     "metadata": {},
     "output_type": "display_data"
    },
    {
     "name": "stdout",
     "output_type": "stream",
     "text": [
      "Distance distribution of last training batch:\n",
      "mean_same = 0.39942634105682373, mean_diff_seen = 10.140077590942383, mean_diff_ood = 11.172758102416992\n",
      "Distance distribution of last validation batch:\n",
      "mean_same = 3.455726146697998, mean_diff_seen = 9.45950984954834, mean_diff_ood = 8.641321182250977\n"
     ]
    },
    {
     "data": {
      "image/png": "[encoded data removed]",
      "text/plain": [
       "<Figure size 720x360 with 2 Axes>"
      ]
     },
     "metadata": {
      "needs_background": "light"
     },
     "output_type": "display_data"
    },
    {
     "name": "stdout",
     "output_type": "stream",
     "text": [
      "Distance distribution of last training batch:\n",
      "mean_same = 0.39942634105682373, mean_diff_seen = 10.140077590942383, mean_diff_ood = 11.172758102416992\n",
      "Distance distribution of last validation batch:\n",
      "mean_same = 3.455726146697998, mean_diff_seen = 9.45950984954834, mean_diff_ood = 8.641321182250977\n"
     ]
    },
    {
     "data": {
      "image/png": "[encoded data removed]",
      "text/plain": [
       "<Figure size 720x360 with 2 Axes>"
      ]
     },
     "metadata": {
      "needs_background": "light"
     },
     "output_type": "display_data"
    },
    {
     "name": "stdout",
     "output_type": "stream",
     "text": [
      "auroc: 0.844541084916457\n"
     ]
    },
    {
     "data": {
      "image/png": "[encoded data removed]",
      "text/plain": [
       "<Figure size 432x288 with 1 Axes>"
      ]
     },
     "metadata": {
      "needs_background": "light"
     },
     "output_type": "display_data"
    },
    {
     "name": "stdout",
     "output_type": "stream",
     "text": [
      "auroc: 0.6063283380186426\n"
     ]
    },
    {
     "data": {
      "image/png": "[encoded data removed]",
      "text/plain": [
       "<Figure size 432x288 with 1 Axes>"
      ]
     },
     "metadata": {
      "needs_background": "light"
     },
     "output_type": "display_data"
    }
   ],
   "source": [
    "# further train the best siamese_without_oe model for 10 epochs with SVHN OE\n",
    "model = train()\n",
    "torch.save(model.state_dict(), \"./stat_dict/siamese_with_oe_continue_0726.pth\")"
   ]
  },
  {
   "cell_type": "code",
   "execution_count": 9,
   "id": "e23501be",
   "metadata": {},
   "outputs": [
    {
     "data": {
      "text/html": [
       "\n",
       "                Tracking run with wandb version 0.10.32<br/>\n",
       "                Syncing run <strong style=\"color:#cdcd00\">Siamese with OE - rotation</strong> to <a href=\"https://wandb.ai\" target=\"_blank\">Weights & Biases</a> <a href=\"https://docs.wandb.com/integrations/jupyter.html\" target=\"_blank\">(Documentation)</a>.<br/>\n",
       "                Project page: <a href=\"https://wandb.ai/zoey7407/training-siamese\" target=\"_blank\">https://wandb.ai/zoey7407/training-siamese</a><br/>\n",
       "                Run page: <a href=\"https://wandb.ai/zoey7407/training-siamese/runs/30fti86t\" target=\"_blank\">https://wandb.ai/zoey7407/training-siamese/runs/30fti86t</a><br/>\n",
       "                Run data is saved locally in <code>C:\\Users\\HANZO\\FSL_OOD\\experiments\\wandb\\run-20210804_101106-30fti86t</code><br/><br/>\n",
       "            "
      ],
      "text/plain": [
       "<IPython.core.display.HTML object>"
      ]
     },
     "metadata": {},
     "output_type": "display_data"
    },
    {
     "name": "stdout",
     "output_type": "stream",
     "text": [
      "\n",
      "Epoch 0, Train loss 4.881956118898294, Val loss 36.20201813547235\n",
      "Val auroc diff 0.912280274622168, Val auroc ood 0.6734653914986336\n",
      "Distance distribution of last training batch:\n",
      "mean_same = 0.9407086968421936, mean_diff_seen = 19.370155334472656, mean_diff_ood = 17.64578628540039\n",
      "Distance distribution of last validation batch:\n",
      "mean_same = 4.596897125244141, mean_diff_seen = 17.65746307373047, mean_diff_ood = 15.970131874084473\n"
     ]
    },
    {
     "data": {
      "image/png": "[encoded data removed]",
      "text/plain": [
       "<Figure size 720x360 with 2 Axes>"
      ]
     },
     "metadata": {
      "needs_background": "light"
     },
     "output_type": "display_data"
    },
    {
     "name": "stdout",
     "output_type": "stream",
     "text": [
      "\n",
      "Epoch 1, Train loss 1.37279602700902, Val loss 36.26434797989695\n",
      "Val auroc diff 0.9061127393752594, Val auroc ood 0.6710517723271426\n",
      "Distance distribution of last training batch:\n",
      "mean_same = 0.883899986743927, mean_diff_seen = 18.44905662536621, mean_diff_ood = 18.37731170654297\n",
      "Distance distribution of last validation batch:\n",
      "mean_same = 4.709951400756836, mean_diff_seen = 16.605649948120117, mean_diff_ood = 15.783136367797852\n",
      "EarlyStopping counter: 1 out of 20, best val auroc ood: 0.6734653914986336\n",
      "\n",
      "Epoch 2, Train loss 1.2308271057212476, Val loss 36.15088392558851\n",
      "Val auroc diff 0.9108301631157821, Val auroc ood 0.6834173520678195\n",
      "Distance distribution of last training batch:\n",
      "mean_same = 0.6824373006820679, mean_diff_seen = 18.13785743713379, mean_diff_ood = 17.88931655883789\n",
      "Distance distribution of last validation batch:\n",
      "mean_same = 5.079707145690918, mean_diff_seen = 17.18552589416504, mean_diff_ood = 15.933321952819824\n",
      "\n",
      "Epoch 3, Train loss 1.1147461613428962, Val loss 35.88442551462274\n",
      "Val auroc diff 0.9213432638043967, Val auroc ood 0.7274987676867714\n",
      "Distance distribution of last training batch:\n",
      "mean_same = 0.8936912417411804, mean_diff_seen = 17.732046127319336, mean_diff_ood = 18.300159454345703\n",
      "Distance distribution of last validation batch:\n",
      "mean_same = 4.054003715515137, mean_diff_seen = 16.919740676879883, mean_diff_ood = 16.587011337280273\n",
      "\n",
      "Epoch 4, Train loss 1.6710001580493967, Val loss 34.3489404979505\n",
      "Val auroc diff 0.9127523532967289, Val auroc ood 0.6898243913192131\n",
      "Distance distribution of last training batch:\n",
      "mean_same = 0.6046699285507202, mean_diff_seen = 17.180015563964844, mean_diff_ood = 18.356346130371094\n",
      "Distance distribution of last validation batch:\n",
      "mean_same = 5.257735252380371, mean_diff_seen = 16.01691246032715, mean_diff_ood = 15.208396911621094\n",
      "EarlyStopping counter: 1 out of 20, best val auroc ood: 0.7274987676867714\n",
      "\n",
      "Epoch 5, Train loss 1.3733784224569183, Val loss 34.62646916038111\n",
      "Val auroc diff 0.9208207734964494, Val auroc ood 0.734533458128484\n",
      "Distance distribution of last training batch:\n",
      "mean_same = 0.9734475016593933, mean_diff_seen = 17.13262367248535, mean_diff_ood = 18.347564697265625\n",
      "Distance distribution of last validation batch:\n",
      "mean_same = 3.7231709957122803, mean_diff_seen = 16.61215591430664, mean_diff_ood = 16.02131462097168\n",
      "\n",
      "Epoch 6, Train loss 1.4221863196682685, Val loss 34.96101801018966\n",
      "Val auroc diff 0.9214051766274877, Val auroc ood 0.7361528288444572\n",
      "Distance distribution of last training batch:\n",
      "mean_same = 0.6414482593536377, mean_diff_seen = 16.846220016479492, mean_diff_ood = 17.83440399169922\n",
      "Distance distribution of last validation batch:\n",
      "mean_same = 4.397315502166748, mean_diff_seen = 16.002273559570312, mean_diff_ood = 16.480703353881836\n",
      "\n",
      "Epoch 7, Train loss 1.3566867530960398, Val loss 35.29553915324964\n",
      "Val auroc diff 0.9264000510263773, Val auroc ood 0.767590281198463\n",
      "Distance distribution of last training batch:\n",
      "mean_same = 0.8115134239196777, mean_diff_seen = 17.495790481567383, mean_diff_ood = 19.040042877197266\n",
      "Distance distribution of last validation batch:\n",
      "mean_same = 4.191485404968262, mean_diff_seen = 16.072370529174805, mean_diff_ood = 16.6381893157959\n",
      "\n",
      "Epoch 8, Train loss 1.2838360587346185, Val loss 35.072358683535924\n",
      "Val auroc diff 0.9263577628247274, Val auroc ood 0.7721602839624331\n",
      "Distance distribution of last training batch:\n",
      "mean_same = 0.8393068313598633, mean_diff_seen = 17.13052749633789, mean_diff_ood = 18.600317001342773\n",
      "Distance distribution of last validation batch:\n",
      "mean_same = 4.690953731536865, mean_diff_seen = 16.481321334838867, mean_diff_ood = 16.368440628051758\n",
      "\n",
      "Epoch 9, Train loss 0.9949084225389146, Val loss 35.54302235653526\n",
      "Val auroc diff 0.9219662431773311, Val auroc ood 0.7412601454397083\n",
      "Distance distribution of last training batch:\n",
      "mean_same = 0.63777756690979, mean_diff_seen = 17.65015411376953, mean_diff_ood = 18.968708038330078\n",
      "Distance distribution of last validation batch:\n",
      "mean_same = 4.7566118240356445, mean_diff_seen = 16.816524505615234, mean_diff_ood = 16.52896499633789\n",
      "EarlyStopping counter: 1 out of 20, best val auroc ood: 0.7721602839624331\n"
     ]
    },
    {
     "data": {
      "text/html": [
       "<br/>Waiting for W&B process to finish, PID 48840<br/>Program ended successfully."
      ],
      "text/plain": [
       "<IPython.core.display.HTML object>"
      ]
     },
     "metadata": {},
     "output_type": "display_data"
    },
    {
     "data": {
      "application/vnd.jupyter.widget-view+json": {
       "model_id": "",
       "version_major": 2,
       "version_minor": 0
      },
      "text/plain": [
       "VBox(children=(Label(value=' 0.00MB of 0.00MB uploaded (0.00MB deduped)\\r'), FloatProgress(value=1.0, max=1.0)…"
      ]
     },
     "metadata": {},
     "output_type": "display_data"
    },
    {
     "data": {
      "text/html": [
       "Find user logs for this run at: <code>C:\\Users\\HANZO\\FSL_OOD\\experiments\\wandb\\run-20210804_101106-30fti86t\\logs\\debug.log</code>"
      ],
      "text/plain": [
       "<IPython.core.display.HTML object>"
      ]
     },
     "metadata": {},
     "output_type": "display_data"
    },
    {
     "data": {
      "text/html": [
       "Find internal logs for this run at: <code>C:\\Users\\HANZO\\FSL_OOD\\experiments\\wandb\\run-20210804_101106-30fti86t\\logs\\debug-internal.log</code>"
      ],
      "text/plain": [
       "<IPython.core.display.HTML object>"
      ]
     },
     "metadata": {},
     "output_type": "display_data"
    },
    {
     "data": {
      "text/html": [
       "<h3>Run summary:</h3><br/><style>\n",
       "    table.wandb td:nth-child(1) { padding: 0 10px; text-align: right }\n",
       "    </style><table class=\"wandb\">\n",
       "<tr><td>Epoch</td><td>9</td></tr><tr><td>Train Loss</td><td>0.99491</td></tr><tr><td>Val Loss</td><td>35.54302</td></tr><tr><td>Val auroc diff</td><td>0.92197</td></tr><tr><td>Val auroc ood</td><td>0.74126</td></tr><tr><td>Train mean distance (same)</td><td>0.63778</td></tr><tr><td>Train mean distance (diff_seen)</td><td>17.65015</td></tr><tr><td>Train mean distance (diff_ood)</td><td>18.96871</td></tr><tr><td>Val mean distance (same)</td><td>4.75661</td></tr><tr><td>Val mean distance (diff_seen)</td><td>16.81652</td></tr><tr><td>Val mean distance (diff_ood)</td><td>16.52896</td></tr><tr><td>_runtime</td><td>467</td></tr><tr><td>_timestamp</td><td>1628043533</td></tr><tr><td>_step</td><td>9</td></tr></table>"
      ],
      "text/plain": [
       "<IPython.core.display.HTML object>"
      ]
     },
     "metadata": {},
     "output_type": "display_data"
    },
    {
     "data": {
      "text/html": [
       "<h3>Run history:</h3><br/><style>\n",
       "    table.wandb td:nth-child(1) { padding: 0 10px; text-align: right }\n",
       "    </style><table class=\"wandb\">\n",
       "<tr><td>Epoch</td><td>▁▂▃▃▄▅▆▆▇█</td></tr><tr><td>Train Loss</td><td>█▂▁▁▂▂▂▂▂▁</td></tr><tr><td>Val Loss</td><td>███▇▁▂▃▄▄▅</td></tr><tr><td>Val auroc diff</td><td>▃▁▃▆▃▆▆██▆</td></tr><tr><td>Val auroc ood</td><td>▁▁▂▅▂▅▆██▆</td></tr><tr><td>Train mean distance (same)</td><td>▇▆▂▆▁█▂▅▅▂</td></tr><tr><td>Train mean distance (diff_seen)</td><td>█▅▅▃▂▂▁▃▂▃</td></tr><tr><td>Train mean distance (diff_ood)</td><td>▁▅▂▄▅▅▂█▆█</td></tr><tr><td>Val mean distance (same)</td><td>▅▆▇▃█▁▄▃▅▆</td></tr><tr><td>Val mean distance (diff_seen)</td><td>█▄▆▅▁▄▁▁▃▄</td></tr><tr><td>Val mean distance (diff_ood)</td><td>▅▄▅█▁▅▇█▇▇</td></tr><tr><td>_runtime</td><td>▁▂▃▃▄▅▆▆▇█</td></tr><tr><td>_timestamp</td><td>▁▂▃▃▄▅▆▆▇█</td></tr><tr><td>_step</td><td>▁▂▃▃▄▅▆▆▇█</td></tr></table><br/>"
      ],
      "text/plain": [
       "<IPython.core.display.HTML object>"
      ]
     },
     "metadata": {},
     "output_type": "display_data"
    },
    {
     "data": {
      "text/html": [
       "Synced 5 W&B file(s), 0 media file(s), 0 artifact file(s) and 0 other file(s)"
      ],
      "text/plain": [
       "<IPython.core.display.HTML object>"
      ]
     },
     "metadata": {},
     "output_type": "display_data"
    },
    {
     "data": {
      "text/html": [
       "\n",
       "                    <br/>Synced <strong style=\"color:#cdcd00\">Siamese with OE - rotation</strong>: <a href=\"https://wandb.ai/zoey7407/training-siamese/runs/30fti86t\" target=\"_blank\">https://wandb.ai/zoey7407/training-siamese/runs/30fti86t</a><br/>\n",
       "                "
      ],
      "text/plain": [
       "<IPython.core.display.HTML object>"
      ]
     },
     "metadata": {},
     "output_type": "display_data"
    },
    {
     "name": "stdout",
     "output_type": "stream",
     "text": [
      "Distance distribution of last training batch:\n",
      "mean_same = 0.63777756690979, mean_diff_seen = 17.65015411376953, mean_diff_ood = 18.968708038330078\n",
      "Distance distribution of last validation batch:\n",
      "mean_same = 4.7566118240356445, mean_diff_seen = 16.816524505615234, mean_diff_ood = 16.52896499633789\n"
     ]
    },
    {
     "data": {
      "image/png": "[encoded data removed]",
      "text/plain": [
       "<Figure size 720x360 with 2 Axes>"
      ]
     },
     "metadata": {
      "needs_background": "light"
     },
     "output_type": "display_data"
    },
    {
     "name": "stdout",
     "output_type": "stream",
     "text": [
      "Distance distribution of last training batch:\n",
      "mean_same = 0.63777756690979, mean_diff_seen = 17.65015411376953, mean_diff_ood = 18.968708038330078\n",
      "Distance distribution of last validation batch:\n",
      "mean_same = 4.7566118240356445, mean_diff_seen = 16.816524505615234, mean_diff_ood = 16.52896499633789\n"
     ]
    },
    {
     "data": {
      "image/png": "[encoded data removed]",
      "text/plain": [
       "<Figure size 720x360 with 2 Axes>"
      ]
     },
     "metadata": {
      "needs_background": "light"
     },
     "output_type": "display_data"
    },
    {
     "name": "stdout",
     "output_type": "stream",
     "text": [
      "auroc: 0.9385061417563134\n"
     ]
    },
    {
     "data": {
      "image/png": "[encoded data removed]",
      "text/plain": [
       "<Figure size 432x288 with 1 Axes>"
      ]
     },
     "metadata": {
      "needs_background": "light"
     },
     "output_type": "display_data"
    },
    {
     "name": "stdout",
     "output_type": "stream",
     "text": [
      "auroc: 0.7391092980490795\n"
     ]
    },
    {
     "data": {
      "image/png": "[encoded data removed]",
      "text/plain": [
       "<Figure size 432x288 with 1 Axes>"
      ]
     },
     "metadata": {
      "needs_background": "light"
     },
     "output_type": "display_data"
    }
   ],
   "source": [
    "### class rotation - SVHN class 5-9 as OE\n",
    "model = train()\n",
    "torch.save(model.state_dict(), \"./stat_dict/siamese_with_oe_continue_rotation.pth\")"
   ]
  },
  {
   "cell_type": "code",
   "execution_count": null,
   "id": "21308007",
   "metadata": {},
   "outputs": [],
   "source": []
  }
 ],
 "metadata": {
  "kernelspec": {
   "display_name": "Python 3",
   "language": "python",
   "name": "python3"
  },
  "language_info": {
   "codemirror_mode": {
    "name": "ipython",
    "version": 3
   },
   "file_extension": ".py",
   "mimetype": "text/x-python",
   "name": "python",
   "nbconvert_exporter": "python",
   "pygments_lexer": "ipython3",
   "version": "3.7.10"
  }
 },
 "nbformat": 4,
 "nbformat_minor": 5
}
